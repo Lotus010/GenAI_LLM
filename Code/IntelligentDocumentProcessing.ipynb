{
  "nbformat": 4,
  "nbformat_minor": 0,
  "metadata": {
    "colab": {
      "provenance": [],
      "authorship_tag": "ABX9TyMGDtH/fh3lAXqWBCIjRzu0",
      "include_colab_link": true
    },
    "kernelspec": {
      "name": "python3",
      "display_name": "Python 3"
    },
    "language_info": {
      "name": "python"
    }
  },
  "cells": [
    {
      "cell_type": "markdown",
      "metadata": {
        "id": "view-in-github",
        "colab_type": "text"
      },
      "source": [
        "<a href=\"https://colab.research.google.com/github/Lotus010/GenAI_LLM/blob/main/Code/IntelligentDocumentProcessing.ipynb\" target=\"_parent\"><img src=\"https://colab.research.google.com/assets/colab-badge.svg\" alt=\"Open In Colab\"/></a>"
      ]
    },
    {
      "cell_type": "markdown",
      "source": [
        "Import Packages"
      ],
      "metadata": {
        "id": "YQ9FG1rAibw7"
      }
    },
    {
      "cell_type": "code",
      "execution_count": null,
      "metadata": {
        "id": "-uNlD-0Kh2Yi"
      },
      "outputs": [],
      "source": [
        "#Import Packages\n",
        "!pip -q install openai langchain huggingface_hub --quiet\n",
        "!pip install cohere --quiet\n",
        "!pip install yfinance --quiet\n",
        "!pip install -U langchain-openai --quiet\n",
        "!pip install pytesseract  --quiet\n",
        "!pip install Pillow --quiet\n",
        "!pip install tesseract --quiet\n",
        "!apt install tesseract-ocr --quiet\n",
        "!apt install libtesseract-dev --quiet\n",
        "!pip install langchain_cohere\n",
        "!pip install langchain_community\n",
        "!pip install Gemini --quiet\n",
        "!pip install langchain_google_genai"
      ]
    },
    {
      "cell_type": "code",
      "source": [
        "import os\n",
        "#os.environ['OPENAI_API_KEY'] = \"Your own OPENAI_API_KEY\"\n",
        "#os.environ['HUGGINGFACEHUB_API_TOKEN'] = \"Your own HUGGINGFACEHUB_API_TOKEN\"\n",
        "#os.environ['COHERE_API_KEY'] = \"Your own COHERE_API_KEY\"\n",
        "\n",
        "#Better way\n",
        "from google.colab import userdata\n",
        "#os.environ['OPENAI_API_KEY'] = userdata.get(\"OPENAI_API_KEY\")\n",
        "#os.environ['HUGGINGFACEHUB_API_TOKEN'] = userdata.get(\"HUGGINGFACEHUB_API_TOKEN\")\n",
        "os.environ['COHERE_API_KEY'] = userdata.get(\"COHERE_API_KEY\")\n",
        "os.environ['GEMINI_API_KEY'] = userdata.get(\"GEMINI_API_KEY\")"
      ],
      "metadata": {
        "id": "E18ijWJKiato"
      },
      "execution_count": null,
      "outputs": []
    },
    {
      "cell_type": "code",
      "source": [
        "from langchain.llms import OpenAI, Cohere\n",
        "from langchain_google_genai import ChatGoogleGenerativeAI\n",
        "from langchain import PromptTemplate,LLMChain"
      ],
      "metadata": {
        "id": "FdmasnqLi1UZ"
      },
      "execution_count": null,
      "outputs": []
    },
    {
      "cell_type": "code",
      "source": [
        "#Get the Images, try Invoice_1.png, Invoice_2.png, Invoice_3.png, Invoice_4.png\n",
        "#Try different images in this example\n",
        "from IPython.display import Image as display_image\n",
        "!wget https://raw.githubusercontent.com/venkatareddykonasani/Datasets/master/IDM_Datasets/Invoices/Invoice_1.png\n",
        "!wget https://raw.githubusercontent.com/venkatareddykonasani/Datasets/master/IDM_Datasets/Invoices/Invoice_2.png\n",
        "!wget https://raw.githubusercontent.com/venkatareddykonasani/Datasets/master/IDM_Datasets/Invoices/Invoice_3.png\n",
        "!wget https://raw.githubusercontent.com/venkatareddykonasani/Datasets/master/IDM_Datasets/Invoices/Invoice_4.png\n",
        "\n",
        "\n",
        "image_path = '/content/Invoice_4.png'\n",
        "display_image(filename=image_path)"
      ],
      "metadata": {
        "id": "tr5lAIRIjpZ6"
      },
      "execution_count": null,
      "outputs": []
    },
    {
      "cell_type": "code",
      "source": [
        "import os\n",
        "\n",
        "dir = '/content/'\n",
        "ext = ('.png', '.jpg', '.jpeg')\n",
        "imagelist = []\n",
        "for files in os.scandir(dir):\n",
        "    if files.path.endswith(ext):\n",
        "        print(files.path)\n",
        "        imagelist.append(files.path)\n",
        "\n",
        "print(imagelist)\n",
        "\n",
        "os.path.getsize(dir)"
      ],
      "metadata": {
        "id": "t1liqUYTjslv"
      },
      "execution_count": null,
      "outputs": []
    },
    {
      "cell_type": "code",
      "source": [
        "#Extract Text from Image\n",
        "img = Image.open(image_path)\n",
        "invoice_text = pytesseract.image_to_string(img)\n",
        "\n",
        "template=\"\"\"\n",
        "Take the information from {invoice_text} and print the itemwise price and quantity.\n",
        "\"\"\"\n",
        "\n",
        "invoice_prompt = PromptTemplate(\n",
        "    input_variables=[\"invoice_text\"],\n",
        "    template=template,\n",
        ")\n",
        "\n",
        "invoice_chain=LLMChain(llm=llm, prompt=invoice_prompt, output_key=\"itemwise_price_and_quantity\")\n",
        "result=invoice_chain.invoke(invoice_text)\n",
        "print(result['itemwise_price_and_quantity'])"
      ],
      "metadata": {
        "id": "rIDpOeszjtk8"
      },
      "execution_count": null,
      "outputs": []
    }
  ]
}